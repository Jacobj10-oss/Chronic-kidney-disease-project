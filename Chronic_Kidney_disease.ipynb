{
  "nbformat": 4,
  "nbformat_minor": 0,
  "metadata": {
    "colab": {
      "private_outputs": true,
      "provenance": [],
      "authorship_tag": "ABX9TyPcPDt81XSyE4ieSwAjUO6L",
      "include_colab_link": true
    },
    "kernelspec": {
      "name": "python3",
      "display_name": "Python 3"
    },
    "language_info": {
      "name": "python"
    }
  },
  "cells": [
    {
      "cell_type": "markdown",
      "metadata": {
        "id": "view-in-github",
        "colab_type": "text"
      },
      "source": [
        "<a href=\"https://colab.research.google.com/github/Jacobj10-oss/Chronic-kidney-disease-project/blob/master/Chronic_Kidney_disease.ipynb\" target=\"_parent\"><img src=\"https://colab.research.google.com/assets/colab-badge.svg\" alt=\"Open In Colab\"/></a>"
      ]
    },
    {
      "cell_type": "code",
      "execution_count": null,
      "metadata": {
        "id": "HrMMolHtTHE5"
      },
      "outputs": [],
      "source": [
        "import pandas as pd"
      ]
    },
    {
      "cell_type": "code",
      "source": [
        "df_data=pd.read_csv(\"/content/kidney_disease.csv\")"
      ],
      "metadata": {
        "id": "apzqjWa1TPVS"
      },
      "execution_count": null,
      "outputs": []
    },
    {
      "cell_type": "code",
      "source": [
        "df_data"
      ],
      "metadata": {
        "id": "V1Q_nTGdTWT6"
      },
      "execution_count": null,
      "outputs": []
    },
    {
      "cell_type": "markdown",
      "source": [
        "validation of df"
      ],
      "metadata": {
        "id": "CrFfmNvnTef8"
      }
    },
    {
      "cell_type": "code",
      "source": [
        "df_data.head()"
      ],
      "metadata": {
        "id": "7Av2-ZoxTX7g"
      },
      "execution_count": null,
      "outputs": []
    },
    {
      "cell_type": "code",
      "source": [
        "df_data.tail()"
      ],
      "metadata": {
        "id": "Y9N2lxQKTjOZ"
      },
      "execution_count": null,
      "outputs": []
    },
    {
      "cell_type": "markdown",
      "source": [
        "pre processing"
      ],
      "metadata": {
        "id": "ucEJE3oaTn3G"
      }
    },
    {
      "cell_type": "code",
      "source": [
        "df_columns=list(df_data.select_dtypes('object').columns)"
      ],
      "metadata": {
        "id": "2ASJUQ2HTmKI"
      },
      "execution_count": null,
      "outputs": []
    },
    {
      "cell_type": "code",
      "source": [
        "df_columns"
      ],
      "metadata": {
        "id": "RsZ9yBJ3T67J"
      },
      "execution_count": null,
      "outputs": []
    },
    {
      "cell_type": "code",
      "source": [
        "from sklearn.preprocessing import LabelEncoder\n",
        "Encode=LabelEncoder()\n",
        "for column_name in df_columns:\n",
        "  df_data[column_name]=Encode.fit_transform(df_data[column_name])"
      ],
      "metadata": {
        "id": "MUjK7ikyT9RQ"
      },
      "execution_count": null,
      "outputs": []
    },
    {
      "cell_type": "code",
      "source": [
        "df_data"
      ],
      "metadata": {
        "id": "0ft4peA4UrRB"
      },
      "execution_count": null,
      "outputs": []
    },
    {
      "cell_type": "markdown",
      "source": [
        "Null value Handling"
      ],
      "metadata": {
        "id": "COhsRu3bU4e3"
      }
    },
    {
      "cell_type": "code",
      "source": [
        "df_data.isnull().sum()"
      ],
      "metadata": {
        "id": "nUT8hv7rUyFo"
      },
      "execution_count": null,
      "outputs": []
    },
    {
      "cell_type": "markdown",
      "source": [
        "Mean Based Summarize"
      ],
      "metadata": {
        "id": "GoQXJGJXYMH6"
      }
    },
    {
      "cell_type": "code",
      "source": [
        "df_data['sod'].mean()"
      ],
      "metadata": {
        "id": "ewlc-C1CYfCy"
      },
      "execution_count": null,
      "outputs": []
    },
    {
      "cell_type": "code",
      "source": [
        "list_col_null=['age','bp','sg','al','su','bgr','bu','sc','sod','pot','hemo']\n",
        "\n",
        "for column in list_col_null:\n",
        "  df_data[column]=df_data[column].fillna(df_data[column].mean())"
      ],
      "metadata": {
        "id": "iPHJPdeYZnSX"
      },
      "execution_count": null,
      "outputs": []
    },
    {
      "cell_type": "code",
      "source": [
        "df_data.isnull().sum()"
      ],
      "metadata": {
        "id": "yL5nGNtpaswH"
      },
      "execution_count": null,
      "outputs": []
    },
    {
      "cell_type": "markdown",
      "source": [
        "split input and output"
      ],
      "metadata": {
        "id": "m7zprcDveTpZ"
      }
    },
    {
      "cell_type": "code",
      "source": [
        "y = df_data['classification']\n",
        "x = df_data.drop('classification',axis=1)"
      ],
      "metadata": {
        "id": "hnKwpg0EdpVV"
      },
      "execution_count": null,
      "outputs": []
    },
    {
      "cell_type": "markdown",
      "source": [
        "Machine Learning flow"
      ],
      "metadata": {
        "id": "1E19-3iUeYI2"
      }
    },
    {
      "cell_type": "code",
      "source": [
        "from sklearn.model_selection import train_test_split\n",
        "\n",
        "x_train,x_test,y_train,y_test=train_test_split(x,y,test_size=0.2,random_state=32)"
      ],
      "metadata": {
        "id": "b5Kd-dgXd8Sm"
      },
      "execution_count": null,
      "outputs": []
    },
    {
      "cell_type": "code",
      "source": [
        "x_train"
      ],
      "metadata": {
        "id": "xTSCINwbg2R9"
      },
      "execution_count": null,
      "outputs": []
    },
    {
      "cell_type": "markdown",
      "source": [
        "Model Creation"
      ],
      "metadata": {
        "id": "-JD5jKmQiPso"
      }
    },
    {
      "cell_type": "code",
      "source": [
        "from sklearn.linear_model import LinearRegression\n",
        "LR=LinearRegression()"
      ],
      "metadata": {
        "id": "ZSwJOMJYhwEN"
      },
      "execution_count": null,
      "outputs": []
    },
    {
      "cell_type": "markdown",
      "source": [
        "Training of Model"
      ],
      "metadata": {
        "id": "IN3v-CAljeiK"
      }
    },
    {
      "cell_type": "code",
      "source": [
        "LR.fit(x_train,y_train)"
      ],
      "metadata": {
        "id": "qvza-KVejAI_"
      },
      "execution_count": null,
      "outputs": []
    },
    {
      "cell_type": "code",
      "source": [
        "LR.predict(x_test)"
      ],
      "metadata": {
        "id": "iZJgFygGkCgk"
      },
      "execution_count": null,
      "outputs": []
    },
    {
      "cell_type": "code",
      "source": [
        "LR.score(x_train,y_train)"
      ],
      "metadata": {
        "id": "CW2j9yXvkWkc"
      },
      "execution_count": null,
      "outputs": []
    },
    {
      "cell_type": "code",
      "source": [
        "LR.score(x_test,y_test)"
      ],
      "metadata": {
        "id": "u9Lldyuqk0dL"
      },
      "execution_count": null,
      "outputs": []
    },
    {
      "cell_type": "markdown",
      "source": [
        "LogisticRegression"
      ],
      "metadata": {
        "id": "diWLG0sWFlpW"
      }
    },
    {
      "cell_type": "code",
      "source": [
        "from sklearn.linear_model import LogisticRegression\n",
        "\n",
        "LR_1=LogisticRegression()"
      ],
      "metadata": {
        "id": "r8V7B6t1lC_k"
      },
      "execution_count": null,
      "outputs": []
    },
    {
      "cell_type": "code",
      "source": [
        "LR_1.fit(x_train,y_train)"
      ],
      "metadata": {
        "id": "ebJ_f1qtGTI3"
      },
      "execution_count": null,
      "outputs": []
    },
    {
      "cell_type": "code",
      "source": [
        "LR_1.predict(x_test)"
      ],
      "metadata": {
        "id": "UKVb9tBYGfrQ"
      },
      "execution_count": null,
      "outputs": []
    },
    {
      "cell_type": "code",
      "source": [
        "LR_1.score(x_test,y_test)*100"
      ],
      "metadata": {
        "id": "PRg5wWMPGqCe"
      },
      "execution_count": null,
      "outputs": []
    },
    {
      "cell_type": "markdown",
      "source": [
        "Decision Tree"
      ],
      "metadata": {
        "id": "gQrR265zG-hL"
      }
    },
    {
      "cell_type": "code",
      "source": [
        "from sklearn.tree import DecisionTreeClassifier\n",
        "\n",
        "DC=DecisionTreeClassifier()"
      ],
      "metadata": {
        "id": "-HRBKSwoG4EW"
      },
      "execution_count": null,
      "outputs": []
    },
    {
      "cell_type": "code",
      "source": [
        "DC.fit(x_train,y_train)"
      ],
      "metadata": {
        "id": "7VQh-lVbHcDm"
      },
      "execution_count": null,
      "outputs": []
    },
    {
      "cell_type": "code",
      "source": [
        "DC.predict(x_test)"
      ],
      "metadata": {
        "id": "_ReXp-jeHmHO"
      },
      "execution_count": null,
      "outputs": []
    },
    {
      "cell_type": "code",
      "source": [
        "DC.score(x_test,y_test)*100"
      ],
      "metadata": {
        "id": "yyjLdxmWHqXu"
      },
      "execution_count": null,
      "outputs": []
    },
    {
      "cell_type": "code",
      "source": [
        "DC.score(x_train,y_train)*100"
      ],
      "metadata": {
        "id": "yNR2M9LNIaxe"
      },
      "execution_count": null,
      "outputs": []
    },
    {
      "cell_type": "markdown",
      "source": [
        "RandomForest"
      ],
      "metadata": {
        "id": "GtRXSSioJHmf"
      }
    },
    {
      "cell_type": "code",
      "source": [
        "from sklearn.ensemble import RandomForestClassifier\n",
        "\n",
        "RF=RandomForestClassifier()"
      ],
      "metadata": {
        "id": "nFrJoUK9Ihgm"
      },
      "execution_count": null,
      "outputs": []
    },
    {
      "cell_type": "code",
      "source": [
        "RF.fit(x_train,y_train)"
      ],
      "metadata": {
        "id": "HgfiOuUEJevp"
      },
      "execution_count": null,
      "outputs": []
    },
    {
      "cell_type": "code",
      "source": [
        "RF.predict(x_test)"
      ],
      "metadata": {
        "id": "N4MS4MyJJjTd"
      },
      "execution_count": null,
      "outputs": []
    },
    {
      "cell_type": "code",
      "source": [
        "RF.score(x_test,y_test)*100"
      ],
      "metadata": {
        "id": "9sOV437TJoB-"
      },
      "execution_count": null,
      "outputs": []
    },
    {
      "cell_type": "code",
      "source": [
        "RF.score(x_train,y_train)*100"
      ],
      "metadata": {
        "id": "WUAAziktJtIu"
      },
      "execution_count": null,
      "outputs": []
    },
    {
      "cell_type": "code",
      "source": [],
      "metadata": {
        "id": "8HYczmgcJ0T9"
      },
      "execution_count": null,
      "outputs": []
    }
  ]
}